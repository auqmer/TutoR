{
 "cells": [
  {
   "cell_type": "markdown",
   "metadata": {
    "slideshow": {
     "slide_type": "slide"
    }
   },
   "source": [
    "# Principles of Statistical Programming\n",
    "\n",
    "## General Introduction\n",
    "\n",
    "William Murrah"
   ]
  },
  {
   "cell_type": "markdown",
   "metadata": {},
   "source": [
    "## What's the difference between a Statistical Program and a Statistical Programming Language?\n",
    "\n",
    "| Program | Language\n",
    "|---------|----------|\n",
    " "
   ]
  },
  {
   "cell_type": "markdown",
   "metadata": {},
   "source": [
    "## Advantages of Programming\n",
    "\n",
    "* Flexibility\n",
    "* Reproducibility\n",
    "* Saves you time!!"
   ]
  },
  {
   "cell_type": "markdown",
   "metadata": {
    "slideshow": {
     "slide_type": "slide"
    }
   },
   "source": [
    "## The Elements of Programming\n",
    "\n",
    "> 1. **Primitive expressions** - which represent the simplest elements of a language\n",
    "> 2. **Means of combination** - by which compound objects are created\n",
    "> 3. **Means of abstraction** - by which compound elements can be named and manipulated\n"
   ]
  },
  {
   "cell_type": "markdown",
   "metadata": {
    "slideshow": {
     "slide_type": "slide"
    }
   },
   "source": [
    "## Primitive Expressions\n",
    "\n",
    "* Represent the simplest entities in a programming language\n",
    "* Think of them as the individual lego blocks\n",
    "* Priimative expressions have a few basic *types*"
   ]
  },
  {
   "cell_type": "markdown",
   "metadata": {},
   "source": [
    "## Basic Types of Expressions\n",
    "\n",
    "* **Numeric** -integers (1,2), real number (1.2, -3.1, 200.0), and maybe imaginary numbers\n",
    "* **String** - \"Hello world!\", \"Ten\", 'Cat', \"This is a sentence, which is made up of strings\", \"10\" ( in single or double quotes)\n",
    "* **Boolean** - True or False (use operators such as *or*, *and* and *not*)"
   ]
  },
  {
   "cell_type": "markdown",
   "metadata": {
    "slideshow": {
     "slide_type": "slide"
    }
   },
   "source": [
    "## Combining Expressions"
   ]
  },
  {
   "cell_type": "markdown",
   "metadata": {},
   "source": [
    "Primative expressions can be combined:\n",
    "\n",
    "If you type the following combinded *expression*\n",
    "```\n",
    "1 + 2\n",
    "```\n",
    "the programming language will *evaluate* it and print\n",
    "\n",
    "```\n",
    "3\n",
    "```"
   ]
  },
  {
   "cell_type": "markdown",
   "metadata": {
    "slideshow": {
     "slide_type": "slide"
    }
   },
   "source": [
    "## Functions: A Primary Means of Abstraction \n",
    "\n",
    "* Functions are used to abstract compound expressions\n",
    "* Functions take inputs, process them and result in outputs\n",
    "\n",
    "[insert black box photo]"
   ]
  },
  {
   "cell_type": "code",
   "execution_count": null,
   "metadata": {},
   "outputs": [],
   "source": []
  }
 ],
 "metadata": {
  "kernelspec": {
   "display_name": "R",
   "language": "R",
   "name": "ir"
  },
  "language_info": {
   "codemirror_mode": "r",
   "file_extension": ".r",
   "mimetype": "text/x-r-source",
   "name": "R",
   "pygments_lexer": "r",
   "version": "3.6.3"
  }
 },
 "nbformat": 4,
 "nbformat_minor": 4
}
